{
 "cells": [
  {
   "cell_type": "markdown",
   "metadata": {},
   "source": [
    "### How to perform data collection\n",
    "\n",
    "\n",
    "1. First, "
   ]
  },
  {
   "cell_type": "code",
   "execution_count": null,
   "metadata": {},
   "outputs": [],
   "source": []
  },
  {
   "cell_type": "markdown",
   "metadata": {},
   "source": [
    "# Capture a Video"
   ]
  },
  {
   "cell_type": "code",
   "execution_count": 2,
   "metadata": {},
   "outputs": [],
   "source": [
    "from tkinter import Tk, Label, Entry, Button, Canvas\n",
    "import cv2\n",
    "from PIL import Image, ImageTk\n",
    "import threading\n",
    "import numpy as np\n",
    "import os\n",
    "import time\n",
    "\n",
    "\n",
    "\n",
    "\n",
    "\n",
    "\n",
    "def prepare_directory(player_id):\n",
    "    base_folder = \"player_videos\"\n",
    "    player_folder = os.path.join(base_folder, player_id)\n",
    "    if not os.path.exists(player_folder):\n",
    "        os.makedirs(player_folder)\n",
    "    start_time = time.strftime(\"%Y%m%d-%H%M%S\")\n",
    "    session_folder = os.path.join(player_folder, start_time)\n",
    "    os.makedirs(session_folder)\n",
    "    return session_folder\n",
    "\n",
    "def crop_and_resize_frame(frame, size=(256, 256)):\n",
    "    height, width = frame.shape[:2]\n",
    "    min_dim = min(height, width)\n",
    "    top = (height - min_dim) // 2\n",
    "    left = (width - min_dim) // 2\n",
    "    cropped_frame = frame[top:top+min_dim, left:left+min_dim]\n",
    "    resized_frame = cv2.resize(cropped_frame, size, interpolation=cv2.INTER_AREA)\n",
    "    return resized_frame\n",
    "\n",
    "class VideoCapture:\n",
    "    def __init__(self, frame_rate=10, batch_size=100, player_id=\"\", gui_update_callback=None):\n",
    "        self.frame_rate = frame_rate\n",
    "        self.batch_size = batch_size\n",
    "        self.player_id = player_id\n",
    "        self.is_capturing = False\n",
    "        self.frames = []\n",
    "        self.batch_count = 0\n",
    "        self.folder_name = \"\"\n",
    "        self.gui_update_callback = gui_update_callback\n",
    "        self.capture_thread = None\n",
    "\n",
    "    def start_capture(self):\n",
    "        if self.player_id:\n",
    "            self.folder_name = prepare_directory(self.player_id)\n",
    "            self.is_capturing = True\n",
    "            self.capture_thread = threading.Thread(target=self.capture_and_save_batches)\n",
    "            self.capture_thread.start()\n",
    "\n",
    "    def stop_capture(self):\n",
    "        self.is_capturing = False\n",
    "        if self.capture_thread:\n",
    "            self.capture_thread.join(timeout=1)\n",
    "            if self.capture_thread.is_alive():\n",
    "                print(\"Capture thread did not terminate. Attempting to force stop.\")\n",
    "            else:\n",
    "                print(\"Capture stopped successfully.\")\n",
    "        if self.frames:\n",
    "            # Ensure the last batch is saved when capturing stops\n",
    "            batch_time_stamp = time.strftime(\"%Y%m%d-%H%M%S\")\n",
    "            batch_array = np.array(self.frames)\n",
    "            np.savez_compressed(os.path.join(self.folder_name, f\"batch_{batch_time_stamp}_{self.batch_count}\"), batch_array)\n",
    "        self.frames = []\n",
    "\n",
    "    def capture_and_save_batches(self):\n",
    "        cap = cv2.VideoCapture(0)\n",
    "        try:\n",
    "            while self.is_capturing:\n",
    "                ret, frame = cap.read()\n",
    "                if ret and self.is_capturing:  # Check if capturing should continue\n",
    "                    modified_frame = crop_and_resize_frame(frame)\n",
    "                    if self.gui_update_callback:\n",
    "                        self.gui_update_callback(modified_frame)\n",
    "                    self.frames.append(modified_frame)\n",
    "                    if len(self.frames) == self.batch_size:\n",
    "                        batch_time_stamp = time.strftime(\"%Y%m%d-%H%M%S\")\n",
    "                        batch_array = np.array(self.frames)\n",
    "                        np.savez_compressed(os.path.join(self.folder_name, f\"batch_{batch_time_stamp}_{self.batch_count}\"), batch_array)\n",
    "                        self.frames = []  # Clear frames for the next batch\n",
    "                        self.batch_count += 1\n",
    "                else:\n",
    "                    break\n",
    "        finally:\n",
    "            cap.release()\n",
    "\n",
    "\n",
    "class WebCam_Application(Tk):\n",
    "    def __init__(self):\n",
    "        super().__init__()\n",
    "        self.capture = None\n",
    "        self.title(\"Video Capture\")\n",
    "        self.geometry(\"300x400\")\n",
    "        Label(self, text=\"Player ID:\").pack()\n",
    "        self.player_id_entry = Entry(self)\n",
    "        self.player_id_entry.pack()\n",
    "        self.start_button = Button(self, text=\"Start Capture\", command=self.start_capture)\n",
    "        self.start_button.pack()\n",
    "        self.stop_button = Button(self, text=\"Stop Capture\", command=self.stop_capture, state=\"disabled\")\n",
    "        self.stop_button.pack()\n",
    "        self.canvas = Canvas(self, width=256, height=256)\n",
    "        self.canvas.pack()\n",
    "\n",
    "    def update_gui_with_frame(self, frame):\n",
    "        frame = cv2.cvtColor(frame, cv2.COLOR_BGR2RGB)\n",
    "        im = Image.fromarray(frame)\n",
    "        imgtk = ImageTk.PhotoImage(image=im)\n",
    "        self.canvas.create_image(128, 128, image=imgtk)\n",
    "        self.canvas.imgtk = imgtk  # Keep a reference to the image to prevent garbage collection, whatever that shit is\n",
    "\n",
    "    def start_capture(self):\n",
    "        player_id = self.player_id_entry.get()\n",
    "        if player_id:\n",
    "            self.capture = VideoCapture(player_id=player_id, gui_update_callback=self.update_gui_with_frame)\n",
    "            self.capture.start_capture()\n",
    "            self.start_button.config(state=\"disabled\")\n",
    "            self.stop_button.config(state=\"normal\")\n",
    "\n",
    "    def stop_capture(self):\n",
    "        if self.capture:\n",
    "            self.capture.stop_capture()\n",
    "            self.start_button.config(state=\"normal\")\n",
    "            self.stop_button.config(state=\"disabled\")\n",
    "\n"
   ]
  },
  {
   "cell_type": "code",
   "execution_count": 6,
   "metadata": {},
   "outputs": [],
   "source": [
    "from tkinter_app_webcam import *"
   ]
  },
  {
   "cell_type": "code",
   "execution_count": 7,
   "metadata": {},
   "outputs": [],
   "source": [
    "app = WebCam_Application()\n",
    "app.mainloop()"
   ]
  },
  {
   "cell_type": "markdown",
   "metadata": {},
   "source": [
    "#### How many frames were in a certain video?"
   ]
  },
  {
   "cell_type": "code",
   "execution_count": 2,
   "metadata": {},
   "outputs": [],
   "source": [
    "import numpy as np\n",
    "import cv2\n",
    "import os\n",
    "\n",
    "def load_frames_from_npz(player_id, session_start):\n",
    "    \"\"\"\n",
    "    Load all frames from NPZ files for a given player ID and session start.\n",
    "\n",
    "    Parameters:\n",
    "    - player_id: The ID of the player.\n",
    "    - session_start: The start time of the session to uniquely identify the session folder.\n",
    "\n",
    "    Returns:\n",
    "    - A list of all frames from the session.\n",
    "    \"\"\"\n",
    "    base_dir = \"player_videos\"\n",
    "    session_dir = os.path.join(base_dir, str(player_id), session_start)\n",
    "    frames = []\n",
    "    for npz_file in sorted(os.listdir(session_dir)):\n",
    "        if npz_file.endswith('.npz'):\n",
    "            file_path = os.path.join(session_dir, npz_file)\n",
    "            data = np.load(file_path, allow_pickle=True)\n",
    "            batch_frames = [frame for _, frame in data.items()][0]\n",
    "            frames.extend(batch_frames)\n",
    "    return frames\n",
    "\n",
    "\n",
    "def display_frame(frame, frame_number):\n",
    "    \"\"\"\n",
    "    Display a single frame with OpenCV.\n",
    "\n",
    "    Parameters:\n",
    "    - frame: The frame to display.\n",
    "    - frame_number: The frame number (for window title).\n",
    "    \"\"\"\n",
    "    window_name = f\"Frame {frame_number}\"\n",
    "    cv2.namedWindow(window_name, cv2.WINDOW_NORMAL)\n",
    "    cv2.imshow(window_name, frame)\n",
    "    cv2.waitKey(0)  # Wait until any key is pressed\n",
    "    cv2.destroyAllWindows()"
   ]
  },
  {
   "cell_type": "code",
   "execution_count": 4,
   "metadata": {},
   "outputs": [
    {
     "name": "stdout",
     "output_type": "stream",
     "text": [
      "Total frames loaded: 154\n"
     ]
    }
   ],
   "source": [
    "player_id = \"0\"\n",
    "\n",
    "session_start = \"20240223-123525\"  # Format: YearMonthDay-HourMinuteSecond\n",
    "frames = load_frames_from_npz(player_id, session_start)\n",
    "print(f\"Total frames loaded: {len(frames)}\")\n"
   ]
  },
  {
   "cell_type": "markdown",
   "metadata": {},
   "source": [
    "### View a single frame\n",
    "\n",
    "- Can use this to calibrate the video by recording a stop watch to make sure we can allign the sensor data to this video data\n",
    "- But to get around this i have also given each batch a timestamp\n",
    "- This video footage is not 10 fps but rather 28 or so"
   ]
  },
  {
   "cell_type": "code",
   "execution_count": 5,
   "metadata": {},
   "outputs": [],
   "source": [
    "\n",
    "# Display an early frame and a later frame\n",
    "early_frame_number = 0  # rmeber to press q to quit these windowsss\n",
    "later_frame_number = len(frames) - 1  \n",
    "\n",
    "display_frame(frames[early_frame_number], early_frame_number)\n",
    "display_frame(frames[later_frame_number], later_frame_number)\n"
   ]
  },
  {
   "cell_type": "code",
   "execution_count": null,
   "metadata": {},
   "outputs": [],
   "source": []
  },
  {
   "cell_type": "code",
   "execution_count": null,
   "metadata": {},
   "outputs": [],
   "source": []
  },
  {
   "cell_type": "code",
   "execution_count": null,
   "metadata": {},
   "outputs": [],
   "source": []
  },
  {
   "cell_type": "code",
   "execution_count": null,
   "metadata": {},
   "outputs": [],
   "source": []
  },
  {
   "cell_type": "code",
   "execution_count": null,
   "metadata": {},
   "outputs": [],
   "source": []
  },
  {
   "cell_type": "code",
   "execution_count": null,
   "metadata": {},
   "outputs": [],
   "source": []
  },
  {
   "cell_type": "code",
   "execution_count": null,
   "metadata": {},
   "outputs": [],
   "source": []
  },
  {
   "cell_type": "code",
   "execution_count": null,
   "metadata": {},
   "outputs": [],
   "source": []
  },
  {
   "cell_type": "code",
   "execution_count": null,
   "metadata": {},
   "outputs": [],
   "source": []
  },
  {
   "cell_type": "code",
   "execution_count": null,
   "metadata": {},
   "outputs": [],
   "source": []
  }
 ],
 "metadata": {
  "kernelspec": {
   "display_name": "pygame",
   "language": "python",
   "name": "python3"
  },
  "language_info": {
   "codemirror_mode": {
    "name": "ipython",
    "version": 3
   },
   "file_extension": ".py",
   "mimetype": "text/x-python",
   "name": "python",
   "nbconvert_exporter": "python",
   "pygments_lexer": "ipython3",
   "version": "3.12.1"
  }
 },
 "nbformat": 4,
 "nbformat_minor": 2
}
